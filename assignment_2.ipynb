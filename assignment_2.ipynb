{
 "cells": [
  {
   "cell_type": "markdown",
   "id": "de1b7006-fafa-42e3-8d99-f53edc91a82c",
   "metadata": {},
   "source": [
    "Assignment Two ★🌙\n",
    "Name: Nadeen Moreb \n",
    "Student ID: 1203437"
   ]
  },
  {
   "cell_type": "code",
   "execution_count": 59,
   "id": "27100080-13d0-4b6b-8f5f-003e02d4363f",
   "metadata": {},
   "outputs": [
    {
     "name": "stdout",
     "output_type": "stream",
     "text": [
      "[60.3, 87.2, 67.4, 94.1, 67.75, 62.4, 99.5, 64.9]\n",
      "The best grocery store is Grocery 1 : Abo Ahmad with a total cost 💰 of $60.30\n"
     ]
    }
   ],
   "source": [
    "import numpy as np\n",
    "from zipfile import ZipFile\n",
    "\n",
    "zipFilePath = 'C://Users//AL-YAMEN//Downloads//groceries.zip'\n",
    "groceryFiles = ['Abo Ahmad.npy', 'Baghdad.npy', 'Bravo.npy', 'Gardens.npy', 'Karaz.npy', 'Mawares.npy', 'Max mar.npy', 'Shini.npy']\n",
    "\n",
    "#GIVEN AMOUNTS LIST \n",
    "amounts = np.array([2, 1.5, 3, 6, 1, 1, 2, 3])\n",
    "\n",
    "with ZipFile(zipFilePath) as myzip:\n",
    "    # MAP TO LOAD ALL FILES DATA \n",
    "    allData = list(map(lambda fileName: np.load(myzip.open(fileName)), groceryFiles))\n",
    "\n",
    "# USING MATRIX MULTIPLICATION USING DOT METHOD WE CALCULATE COST FOR EACH GROCERY\n",
    "totalCosts = [np.dot(data, amounts) for data in allData]\n",
    "\n",
    "#PRING TOTAL COSTS FOR EACH GROCERY \n",
    "print(totalCosts)\n",
    "\n",
    "# ARGMIN TO FIND LEAST COST AND DETERMINE WHICH GROCERY TO CHOOSE  \n",
    "chosenGroceryIndex = np.argmin(totalCosts)\n",
    "\n",
    "#SUBSTRING BEFORE THE DOT TO PRINT CHOSEN GROCERY NAME\n",
    "chosenGrocery = groceryFiles[chosenGroceryIndex]\n",
    "dotIndex = chosenGrocery.find('.')\n",
    "chosenGroceryName = chosenGrocery[:dotIndex]\n",
    "\n",
    "# PRINT RESULT\n",
    "print(f\"The best grocery store is Grocery {chosenGroceryIndex + 1} : {chosenGroceryName} with a total cost 💰 of ${totalCosts[chosenGroceryIndex]:.2f}\")\n",
    "\n"
   ]
  }
 ],
 "metadata": {
  "kernelspec": {
   "display_name": "Python 3 (ipykernel)",
   "language": "python",
   "name": "python3"
  },
  "language_info": {
   "codemirror_mode": {
    "name": "ipython",
    "version": 3
   },
   "file_extension": ".py",
   "mimetype": "text/x-python",
   "name": "python",
   "nbconvert_exporter": "python",
   "pygments_lexer": "ipython3",
   "version": "3.11.7"
  }
 },
 "nbformat": 4,
 "nbformat_minor": 5
}
